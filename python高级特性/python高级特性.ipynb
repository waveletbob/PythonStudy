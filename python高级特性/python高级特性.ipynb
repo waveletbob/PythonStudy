{
 "cells": [
  {
   "cell_type": "code",
   "execution_count": 1,
   "metadata": {
    "collapsed": true
   },
   "outputs": [],
   "source": [
    "def demo(lst=[]):\n",
    "    lst.append(\"helllo\")\n",
    "    return lst"
   ]
  },
  {
   "cell_type": "code",
   "execution_count": 2,
   "metadata": {
    "collapsed": false
   },
   "outputs": [
    {
     "data": {
      "text/plain": [
       "['helllo']"
      ]
     },
     "execution_count": 2,
     "metadata": {},
     "output_type": "execute_result"
    }
   ],
   "source": [
    "demo()"
   ]
  },
  {
   "cell_type": "code",
   "execution_count": 3,
   "metadata": {
    "collapsed": false
   },
   "outputs": [
    {
     "data": {
      "text/plain": [
       "['helllo', 'helllo']"
      ]
     },
     "execution_count": 3,
     "metadata": {},
     "output_type": "execute_result"
    }
   ],
   "source": [
    "demo()"
   ]
  },
  {
   "cell_type": "code",
   "execution_count": 4,
   "metadata": {
    "collapsed": true
   },
   "outputs": [],
   "source": [
    "def demo1(lst=None):\n",
    "    lst=[]\n",
    "    lst.append(\"hello\")\n",
    "    return lst"
   ]
  },
  {
   "cell_type": "code",
   "execution_count": 5,
   "metadata": {
    "collapsed": false
   },
   "outputs": [
    {
     "data": {
      "text/plain": [
       "['hello']"
      ]
     },
     "execution_count": 5,
     "metadata": {},
     "output_type": "execute_result"
    }
   ],
   "source": [
    "demo1()"
   ]
  },
  {
   "cell_type": "code",
   "execution_count": 6,
   "metadata": {
    "collapsed": false
   },
   "outputs": [
    {
     "data": {
      "text/plain": [
       "['hello']"
      ]
     },
     "execution_count": 6,
     "metadata": {},
     "output_type": "execute_result"
    }
   ],
   "source": [
    "demo1()"
   ]
  },
  {
   "cell_type": "code",
   "execution_count": 7,
   "metadata": {
    "collapsed": true
   },
   "outputs": [],
   "source": [
    "#不可变(mutable)类型：int, long, float, string, tuple, frozenset\n",
    "#可变类型(immutable)类型：list, dict"
   ]
  },
  {
   "cell_type": "code",
   "execution_count": 8,
   "metadata": {
    "collapsed": false
   },
   "outputs": [
    {
     "data": {
      "text/plain": [
       "(1532869072, 1532869104)"
      ]
     },
     "execution_count": 8,
     "metadata": {},
     "output_type": "execute_result"
    }
   ],
   "source": [
    "id(1),id(2)"
   ]
  },
  {
   "cell_type": "code",
   "execution_count": 9,
   "metadata": {
    "collapsed": false
   },
   "outputs": [
    {
     "data": {
      "text/plain": [
       "1532869072"
      ]
     },
     "execution_count": 9,
     "metadata": {},
     "output_type": "execute_result"
    }
   ],
   "source": [
    "a = 1\n",
    "id(a)"
   ]
  },
  {
   "cell_type": "code",
   "execution_count": 10,
   "metadata": {
    "collapsed": false
   },
   "outputs": [
    {
     "data": {
      "text/plain": [
       "1532869136"
      ]
     },
     "execution_count": 10,
     "metadata": {},
     "output_type": "execute_result"
    }
   ],
   "source": [
    "a = 3\n",
    "id(a)"
   ]
  },
  {
   "cell_type": "code",
   "execution_count": 12,
   "metadata": {
    "collapsed": false
   },
   "outputs": [
    {
     "data": {
      "text/plain": [
       "80774152"
      ]
     },
     "execution_count": 12,
     "metadata": {},
     "output_type": "execute_result"
    }
   ],
   "source": [
    "lst = [0]\n",
    "id(lst)\n"
   ]
  },
  {
   "cell_type": "code",
   "execution_count": 13,
   "metadata": {
    "collapsed": false
   },
   "outputs": [
    {
     "data": {
      "text/plain": [
       "80773320"
      ]
     },
     "execution_count": 13,
     "metadata": {},
     "output_type": "execute_result"
    }
   ],
   "source": [
    "lst = [0,1]\n",
    "id(lst)"
   ]
  },
  {
   "cell_type": "code",
   "execution_count": 15,
   "metadata": {
    "collapsed": false
   },
   "outputs": [
    {
     "name": "stdout",
     "output_type": "stream",
     "text": [
      "False\n"
     ]
    }
   ],
   "source": [
    "class Word(str):\n",
    "    def __new__(cls, word):\n",
    "        word = word.replace(\" \",\"\")\n",
    "        return str.__new__(cls,word)\n",
    "\n",
    "    def __init__(self,word):\n",
    "        self.word = word\n",
    "\n",
    "    def __eq__(self, other):\n",
    "        return len(self)==len(other)\n",
    "\n",
    "\n",
    "def main():\n",
    "    a=Word(\"foorrrdd  \")\n",
    "    b=Word(\"sswwss    \")\n",
    "    print(a==b)\n",
    "\n",
    "if __name__ == '__main__':\n",
    "    main()\n",
    "#在这段代码里，可以看到Word类继承自str,str是一个不可变类型,因此需要使用到__new__这个魔术方法，\n",
    "#在这里对word这个形参进行了预处理，然后预处理后的形参word会传递给__init__。\n",
    "#由于此例此种情形中，a,b指向的是不同的内存空间,即使不用__new__也不会因为实参的传入导致上面例子出现不断追加的情况,\n",
    "#但显然这会是一种更为安全的写法。"
   ]
  },
  {
   "cell_type": "code",
   "execution_count": 16,
   "metadata": {
    "collapsed": false
   },
   "outputs": [
    {
     "data": {
      "text/plain": [
       "{0: 'one', 1: 'two', 2: 'three'}"
      ]
     },
     "execution_count": 16,
     "metadata": {},
     "output_type": "execute_result"
    }
   ],
   "source": [
    "#Python的高级特性2:列表推导式,生成器与迭代器\n",
    "{i:el for i,el in enumerate([\"one\",\"two\",\"three\"])}\n"
   ]
  },
  {
   "cell_type": "code",
   "execution_count": 17,
   "metadata": {
    "collapsed": false
   },
   "outputs": [
    {
     "data": {
      "text/plain": [
       "['0: one', '1: two', '2: three']"
      ]
     },
     "execution_count": 17,
     "metadata": {},
     "output_type": "execute_result"
    }
   ],
   "source": [
    "lst = [\"one\",\"two\",\"three\"]\n",
    "i = 0\n",
    "for e in lst:\n",
    "    lst[i] = '%d: %s' % (i,lst[i])\n",
    "    i +=1\n",
    "lst"
   ]
  },
  {
   "cell_type": "code",
   "execution_count": 18,
   "metadata": {
    "collapsed": false
   },
   "outputs": [
    {
     "data": {
      "text/plain": [
       "1532869040"
      ]
     },
     "execution_count": 18,
     "metadata": {},
     "output_type": "execute_result"
    }
   ],
   "source": [
    "#迭代器\n",
    "import sys\n",
    "i = iter(range(10000))\n",
    "id(i.__next__())"
   ]
  },
  {
   "cell_type": "code",
   "execution_count": 19,
   "metadata": {
    "collapsed": false
   },
   "outputs": [
    {
     "data": {
      "text/plain": [
       "32"
      ]
     },
     "execution_count": 19,
     "metadata": {},
     "output_type": "execute_result"
    }
   ],
   "source": [
    "sys.getsizeof(i)"
   ]
  },
  {
   "cell_type": "code",
   "execution_count": 20,
   "metadata": {
    "collapsed": false
   },
   "outputs": [
    {
     "data": {
      "text/plain": [
       "28"
      ]
     },
     "execution_count": 20,
     "metadata": {},
     "output_type": "execute_result"
    }
   ],
   "source": [
    "sys.getsizeof(i.__next__())"
   ]
  },
  {
   "cell_type": "code",
   "execution_count": 21,
   "metadata": {
    "collapsed": false
   },
   "outputs": [
    {
     "data": {
      "text/plain": [
       "90112"
      ]
     },
     "execution_count": 21,
     "metadata": {},
     "output_type": "execute_result"
    }
   ],
   "source": [
    "e = range(10000)\n",
    "sys.getsizeof(e)\n",
    "sys.getsizeof(list(e))\n",
    "#可以看到，如果一次性把list全部加载进来，需要90112byte内存空间，如果使用迭代器迭代，仅仅需要28byte内存空间。 \n",
    "#ps:可以被next()函数调用并不断返回下一个值的对象称为迭代器。生成器都是Iterator对象，\n",
    "#但list、dict、str虽然是Iterable，却不是Iterator，list,tuple,dict,str是有可迭代属性(惰性循环),\n",
    "#但如果需要转化成可迭代对象，可以用iter()来转换,验证方式就是看对象是否有__next__方法。"
   ]
  },
  {
   "cell_type": "code",
   "execution_count": 23,
   "metadata": {
    "collapsed": false
   },
   "outputs": [
    {
     "ename": "SyntaxError",
     "evalue": "invalid character in identifier (<ipython-input-23-ce45012a3bd7>, line 3)",
     "output_type": "error",
     "traceback": [
      "\u001b[0;36m  File \u001b[0;32m\"<ipython-input-23-ce45012a3bd7>\"\u001b[0;36m, line \u001b[0;32m3\u001b[0m\n\u001b[0;31m    g=(x*x for x in range(10))\u001b[0m\n\u001b[0m                              　^\u001b[0m\n\u001b[0;31mSyntaxError\u001b[0m\u001b[0;31m:\u001b[0m invalid character in identifier\n"
     ]
    }
   ],
   "source": [
    "#生成器\n",
    "#其实一般情况下是不需要生成器的，只有当因为性能限制下才需要用到，比如你需要用python来read一个10g的txt文件，如果一次性把10g的文件加载到内存再处理(.read()方法)，内存肯定溢出了。这里如果使用生成器，就可以把读和处理交叉进行，比如使用(.readline和.readlines)就可以在循环读取的同时不断处理，这样可以节省大量内存空间。此外，还可以使用生成器生成线程池。\n",
    "g=(x*x for x in range(10))　　\n",
    "#第二种办法不用（）而是在函数中加入yield关键字，遇到next（）返回，再次执行就从yield处继续执行\n",
    "dir(g)#查看属性"
   ]
  },
  {
   "cell_type": "code",
   "execution_count": 24,
   "metadata": {
    "collapsed": false
   },
   "outputs": [
    {
     "data": {
      "text/plain": [
       "['__call__',\n",
       " '__class__',\n",
       " '__delattr__',\n",
       " '__dir__',\n",
       " '__doc__',\n",
       " '__eq__',\n",
       " '__format__',\n",
       " '__ge__',\n",
       " '__getattribute__',\n",
       " '__gt__',\n",
       " '__hash__',\n",
       " '__init__',\n",
       " '__init_subclass__',\n",
       " '__le__',\n",
       " '__lt__',\n",
       " '__module__',\n",
       " '__name__',\n",
       " '__ne__',\n",
       " '__new__',\n",
       " '__qualname__',\n",
       " '__reduce__',\n",
       " '__reduce_ex__',\n",
       " '__repr__',\n",
       " '__self__',\n",
       " '__setattr__',\n",
       " '__sizeof__',\n",
       " '__str__',\n",
       " '__subclasshook__',\n",
       " '__text_signature__']"
      ]
     },
     "execution_count": 24,
     "metadata": {},
     "output_type": "execute_result"
    }
   ],
   "source": [
    "#__call__与返回函数\n",
    "f = abs\n",
    "f(-10)\n",
    "dir(f)"
   ]
  },
  {
   "cell_type": "code",
   "execution_count": 25,
   "metadata": {
    "collapsed": false
   },
   "outputs": [
    {
     "data": {
      "text/plain": [
       "<function __main__.lazy_sum.<locals>.sum>"
      ]
     },
     "execution_count": 25,
     "metadata": {},
     "output_type": "execute_result"
    }
   ],
   "source": [
    "def lazy_sum(*args):\n",
    "    def sum():\n",
    "        ax=0\n",
    "        for n in args:\n",
    "            ax=ax+n\n",
    "        return ax\n",
    "    return sum\n",
    "f=lazy_sum(1,3,5,7,9)\n",
    "f"
   ]
  },
  {
   "cell_type": "code",
   "execution_count": 26,
   "metadata": {
    "collapsed": false
   },
   "outputs": [
    {
     "data": {
      "text/plain": [
       "25"
      ]
     },
     "execution_count": 26,
     "metadata": {},
     "output_type": "execute_result"
    }
   ],
   "source": [
    "f()"
   ]
  },
  {
   "cell_type": "code",
   "execution_count": 27,
   "metadata": {
    "collapsed": false
   },
   "outputs": [
    {
     "data": {
      "text/plain": [
       "['__annotations__',\n",
       " '__call__',\n",
       " '__class__',\n",
       " '__closure__',\n",
       " '__code__',\n",
       " '__defaults__',\n",
       " '__delattr__',\n",
       " '__dict__',\n",
       " '__dir__',\n",
       " '__doc__',\n",
       " '__eq__',\n",
       " '__format__',\n",
       " '__ge__',\n",
       " '__get__',\n",
       " '__getattribute__',\n",
       " '__globals__',\n",
       " '__gt__',\n",
       " '__hash__',\n",
       " '__init__',\n",
       " '__init_subclass__',\n",
       " '__kwdefaults__',\n",
       " '__le__',\n",
       " '__lt__',\n",
       " '__module__',\n",
       " '__name__',\n",
       " '__ne__',\n",
       " '__new__',\n",
       " '__qualname__',\n",
       " '__reduce__',\n",
       " '__reduce_ex__',\n",
       " '__repr__',\n",
       " '__setattr__',\n",
       " '__sizeof__',\n",
       " '__str__',\n",
       " '__subclasshook__']"
      ]
     },
     "execution_count": 27,
     "metadata": {},
     "output_type": "execute_result"
    }
   ],
   "source": [
    "dir(f)"
   ]
  },
  {
   "cell_type": "code",
   "execution_count": 28,
   "metadata": {
    "collapsed": false
   },
   "outputs": [
    {
     "data": {
      "text/plain": [
       "[1, 529, 16, 3136, 25]"
      ]
     },
     "execution_count": 28,
     "metadata": {},
     "output_type": "execute_result"
    }
   ],
   "source": [
    "#函数式编程\n",
    "def f(x):\n",
    "    return x*x\n",
    "r=map(f,[1,23,4,56,5])\n",
    "list(r)"
   ]
  },
  {
   "cell_type": "code",
   "execution_count": 29,
   "metadata": {
    "collapsed": false
   },
   "outputs": [
    {
     "data": {
      "text/plain": [
       "1"
      ]
     },
     "execution_count": 29,
     "metadata": {},
     "output_type": "execute_result"
    }
   ],
   "source": [
    "from functools import reduce\n",
    "def add(x,y):\n",
    "    return x+y\n",
    "reduce(add,[1,35,6,5])de\n",
    "reduce(add,[1])"
   ]
  },
  {
   "cell_type": "code",
   "execution_count": 30,
   "metadata": {
    "collapsed": false
   },
   "outputs": [
    {
     "data": {
      "text/plain": [
       "[1, 23, 9]"
      ]
     },
     "execution_count": 30,
     "metadata": {},
     "output_type": "execute_result"
    }
   ],
   "source": [
    "def is_odd(n):\n",
    "    return n%2==1\n",
    "list(filter(is_odd,[1,23,4,56,78,9]))"
   ]
  },
  {
   "cell_type": "code",
   "execution_count": 31,
   "metadata": {
    "collapsed": false
   },
   "outputs": [
    {
     "name": "stdout",
     "output_type": "stream",
     "text": [
      "alex\n"
     ]
    }
   ],
   "source": [
    "#调用setattr getattribute获取动态属性\n",
    "class Student(object):\n",
    "    pass\n",
    "s=Student()\n",
    "s.name='alex'\n",
    "print(s.name)"
   ]
  },
  {
   "cell_type": "code",
   "execution_count": 32,
   "metadata": {
    "collapsed": false
   },
   "outputs": [
    {
     "data": {
      "text/plain": [
       "'alex'"
      ]
     },
     "execution_count": 32,
     "metadata": {},
     "output_type": "execute_result"
    }
   ],
   "source": [
    "s.__setattr__(\"name\",\"alex\")\n",
    "s.__getattribute__(\"name\")"
   ]
  },
  {
   "cell_type": "code",
   "execution_count": 33,
   "metadata": {
    "collapsed": false
   },
   "outputs": [
    {
     "name": "stdout",
     "output_type": "stream",
     "text": [
      "56\n",
      "48\n"
     ]
    }
   ],
   "source": [
    "#__slots__节省内存\n",
    "import sys\n",
    "class test(object):\n",
    "    def __init__(self,name):\n",
    "        self.name = name\n",
    "class test2(object):\n",
    "    __slots__=['name']\n",
    "    def __init__(self,name):\n",
    "        self.name = name\n",
    "a = test('alex')\n",
    "b = test2('lilei')\n",
    "print(sys.getsizeof(a))\n",
    "print(sys.getsizeof(b))"
   ]
  },
  {
   "cell_type": "code",
   "execution_count": 34,
   "metadata": {
    "collapsed": false
   },
   "outputs": [
    {
     "data": {
      "text/plain": [
       "363"
      ]
     },
     "execution_count": 34,
     "metadata": {},
     "output_type": "execute_result"
    }
   ],
   "source": [
    "#闭包\n",
    "def outer(part1):\n",
    "    def inner(part2):\n",
    "        return part2*part1\n",
    "    return inner\n",
    "f = outer(33)\n",
    "f(100)\n",
    "f(11)"
   ]
  },
  {
   "cell_type": "code",
   "execution_count": 35,
   "metadata": {
    "collapsed": false
   },
   "outputs": [
    {
     "ename": "FileNotFoundError",
     "evalue": "[Errno 2] No such file or directory: '/tmp/tt.txt'",
     "output_type": "error",
     "traceback": [
      "\u001b[0;31m---------------------------------------------------------------------------\u001b[0m",
      "\u001b[0;31mFileNotFoundError\u001b[0m                         Traceback (most recent call last)",
      "\u001b[0;32m<ipython-input-35-c4a3c43147cc>\u001b[0m in \u001b[0;36m<module>\u001b[0;34m()\u001b[0m\n\u001b[1;32m     16\u001b[0m \u001b[1;32mdef\u001b[0m \u001b[0mlocation\u001b[0m\u001b[1;33m(\u001b[0m\u001b[0mpath\u001b[0m\u001b[1;33m)\u001b[0m\u001b[1;33m:\u001b[0m\u001b[1;33m\u001b[0m\u001b[0m\n\u001b[1;32m     17\u001b[0m     \u001b[1;32mreturn\u001b[0m \u001b[0mpath\u001b[0m\u001b[1;33m\u001b[0m\u001b[0m\n\u001b[0;32m---> 18\u001b[0;31m \u001b[0mprint\u001b[0m\u001b[1;33m(\u001b[0m\u001b[0mlocation\u001b[0m\u001b[1;33m(\u001b[0m\u001b[1;34m'/tmp/tt.txt'\u001b[0m\u001b[1;33m)\u001b[0m\u001b[1;33m)\u001b[0m\u001b[1;33m\u001b[0m\u001b[0m\n\u001b[0m",
      "\u001b[0;32m<ipython-input-35-c4a3c43147cc>\u001b[0m in \u001b[0;36m_deco\u001b[0;34m(path)\u001b[0m\n\u001b[1;32m      6\u001b[0m     \u001b[1;32mdef\u001b[0m \u001b[0m_deco\u001b[0m\u001b[1;33m(\u001b[0m\u001b[0mpath\u001b[0m\u001b[1;33m)\u001b[0m\u001b[1;33m:\u001b[0m\u001b[1;33m\u001b[0m\u001b[0m\n\u001b[1;32m      7\u001b[0m         \u001b[0mstart_time\u001b[0m \u001b[1;33m=\u001b[0m \u001b[0mtime\u001b[0m\u001b[1;33m.\u001b[0m\u001b[0mtime\u001b[0m\u001b[1;33m(\u001b[0m\u001b[1;33m)\u001b[0m\u001b[1;33m\u001b[0m\u001b[0m\n\u001b[0;32m----> 8\u001b[0;31m         \u001b[0mf\u001b[0m \u001b[1;33m=\u001b[0m \u001b[0mopen\u001b[0m\u001b[1;33m(\u001b[0m\u001b[0mfunc\u001b[0m\u001b[1;33m(\u001b[0m\u001b[0mpath\u001b[0m\u001b[1;33m)\u001b[0m\u001b[1;33m,\u001b[0m\u001b[1;34m'r'\u001b[0m\u001b[1;33m)\u001b[0m\u001b[1;33m\u001b[0m\u001b[0m\n\u001b[0m\u001b[1;32m      9\u001b[0m         \u001b[0mend_time\u001b[0m \u001b[1;33m=\u001b[0m \u001b[0mtime\u001b[0m\u001b[1;33m.\u001b[0m\u001b[0mtime\u001b[0m\u001b[1;33m(\u001b[0m\u001b[1;33m)\u001b[0m\u001b[1;33m\u001b[0m\u001b[0m\n\u001b[1;32m     10\u001b[0m         \u001b[0mprint\u001b[0m\u001b[1;33m(\u001b[0m\u001b[1;34m\"readFile costs %ss.\"\u001b[0m \u001b[1;33m%\u001b[0m \u001b[1;33m(\u001b[0m\u001b[0mend_time\u001b[0m \u001b[1;33m-\u001b[0m \u001b[0mstart_time\u001b[0m\u001b[1;33m)\u001b[0m\u001b[1;33m)\u001b[0m\u001b[1;33m\u001b[0m\u001b[0m\n",
      "\u001b[0;31mFileNotFoundError\u001b[0m: [Errno 2] No such file or directory: '/tmp/tt.txt'"
     ]
    }
   ],
   "source": [
    "#装饰器\n",
    "import time\n",
    "\n",
    "#装饰器函数\n",
    "def readFile(func):\n",
    "    def _deco(path):\n",
    "        start_time = time.time()\n",
    "        f = open(func(path),'r')\n",
    "        end_time = time.time()\n",
    "        print(\"readFile costs %ss.\" % (end_time - start_time))\n",
    "        return f.read()\n",
    "    return _deco\n",
    "\n",
    "#配置函数\n",
    "@readFile\n",
    "def location(path):\n",
    "    return path\n",
    "print(location('/tmp/tt.txt'))"
   ]
  },
  {
   "cell_type": "code",
   "execution_count": 36,
   "metadata": {
    "collapsed": false
   },
   "outputs": [
    {
     "name": "stdout",
     "output_type": "stream",
     "text": [
      "before myfunc called [<class '__main__.locker'>].\n",
      "locker.acquire() called.（这是静态方法）\n",
      " myfunc() called.\n"
     ]
    }
   ],
   "source": [
    "#带参数装饰器\n",
    "class locker:\n",
    "    def __init__(self):\n",
    "        print(\"locker.__init__() should be not called.\")\n",
    "\n",
    "    @staticmethod\n",
    "    def acquire():\n",
    "        print(\"locker.acquire() called.（这是静态方法）\")\n",
    "\n",
    "\n",
    "def deco(cls):\n",
    "    def _deco(func):\n",
    "        def __deco():\n",
    "            print(\"before %s called [%s].\" % (func.__name__, cls))\n",
    "            cls.acquire()\n",
    "            return func()\n",
    "        return __deco\n",
    "    return _deco\n",
    "\n",
    "@deco(locker)\n",
    "def myfunc():\n",
    "    print(\" myfunc() called.\")\n",
    "\n",
    "myfunc()"
   ]
  },
  {
   "cell_type": "code",
   "execution_count": 37,
   "metadata": {
    "collapsed": false
   },
   "outputs": [
    {
     "data": {
      "text/plain": [
       "__main__.B"
      ]
     },
     "execution_count": 37,
     "metadata": {},
     "output_type": "execute_result"
    }
   ],
   "source": [
    "#类级\n",
    "class A():\n",
    "    pass\n",
    "a=A\n",
    "type(a)\n",
    "class B(object):\n",
    "    pass\n",
    "b=B\n",
    "type(b)\n",
    "c=A()\n",
    "type(c)\n",
    "d=B()\n",
    "type(d)"
   ]
  },
  {
   "cell_type": "code",
   "execution_count": 38,
   "metadata": {
    "collapsed": false
   },
   "outputs": [
    {
     "data": {
      "text/plain": [
       "['__class__',\n",
       " '__delattr__',\n",
       " '__dict__',\n",
       " '__dir__',\n",
       " '__doc__',\n",
       " '__eq__',\n",
       " '__format__',\n",
       " '__ge__',\n",
       " '__getattribute__',\n",
       " '__gt__',\n",
       " '__hash__',\n",
       " '__init__',\n",
       " '__init_subclass__',\n",
       " '__le__',\n",
       " '__lt__',\n",
       " '__module__',\n",
       " '__ne__',\n",
       " '__new__',\n",
       " '__reduce__',\n",
       " '__reduce_ex__',\n",
       " '__repr__',\n",
       " '__setattr__',\n",
       " '__sizeof__',\n",
       " '__str__',\n",
       " '__subclasshook__',\n",
       " '__weakref__',\n",
       " 'name']"
      ]
     },
     "execution_count": 38,
     "metadata": {},
     "output_type": "execute_result"
    }
   ],
   "source": [
    "class A:\n",
    "    def __init__(self,name):\n",
    "        self.name = name    \n",
    "        def say(self): \n",
    "            return(\"I am %s\" % (self.name))\n",
    "a1=A\n",
    "a2=A('alex')\n",
    "dir(a1)\n",
    "dir(a2)"
   ]
  },
  {
   "cell_type": "code",
   "execution_count": 39,
   "metadata": {
    "collapsed": false
   },
   "outputs": [
    {
     "name": "stdout",
     "output_type": "stream",
     "text": [
      "alex\n"
     ]
    }
   ],
   "source": [
    "#@property\n",
    "class Student(object):\n",
    "\n",
    "    @property\n",
    "    def testname(self):\n",
    "        return self.name\n",
    "\n",
    "    @testname.setter\n",
    "    def testname(self,name):\n",
    "        self.name = name\n",
    "\n",
    "s = Student()\n",
    "\n",
    "s.testname = \"alex\"\n",
    "print(s.testname)\n"
   ]
  },
  {
   "cell_type": "code",
   "execution_count": 40,
   "metadata": {
    "collapsed": false
   },
   "outputs": [
    {
     "name": "stdout",
     "output_type": "stream",
     "text": [
      "alex\n"
     ]
    }
   ],
   "source": [
    "#python内置的__getattr__和__setattr__就是将方法变为属性功能的。\n",
    "class Stu(object):\n",
    "    def __init__(self):\n",
    "        pass\n",
    "\n",
    "    def __setattr__(self,name,value):\n",
    "        self.__dict__[name] = value\n",
    "\n",
    "    def __getattr__(self):\n",
    "        return self.name\n",
    "\n",
    "\n",
    "\n",
    "s = Stu()\n",
    "s.name = 'alex'\n",
    "print(s.name)"
   ]
  },
  {
   "cell_type": "code",
   "execution_count": 43,
   "metadata": {
    "collapsed": false
   },
   "outputs": [
    {
     "name": "stdout",
     "output_type": "stream",
     "text": [
      "{'name': 'alex', 'sex': 'male'}\n",
      "alex\n"
     ]
    }
   ],
   "source": [
    "#拓展基本数据类型（dict）\n",
    "t={'name':'zhangsan','sex':'asad'}\n",
    "#t.name='lele'\n",
    "#要实现上述操作，重写setattr\n",
    "class StrongerDict(dict):\n",
    "    def __getattr__(self, key):\n",
    "        return self[key]\n",
    "\n",
    "    def __setattr__(self, key, value):\n",
    "        self[key] = value\n",
    "\n",
    "    def __call__(self, key):\n",
    "        return self[key]\n",
    "s = StrongerDict()\n",
    "s.name='alex'\n",
    "s['sex']='male'\n",
    "print(s)\n",
    "print(s.name)"
   ]
  },
  {
   "cell_type": "code",
   "execution_count": null,
   "metadata": {
    "collapsed": true
   },
   "outputs": [],
   "source": []
  }
 ],
 "metadata": {
  "kernelspec": {
   "display_name": "Python 3",
   "language": "python",
   "name": "python3"
  },
  "language_info": {
   "codemirror_mode": {
    "name": "ipython",
    "version": 3
   },
   "file_extension": ".py",
   "mimetype": "text/x-python",
   "name": "python",
   "nbconvert_exporter": "python",
   "pygments_lexer": "ipython3",
   "version": "3.6.0"
  }
 },
 "nbformat": 4,
 "nbformat_minor": 2
}
